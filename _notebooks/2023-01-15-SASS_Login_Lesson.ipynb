{
 "cells": [
  {
   "cell_type": "markdown",
   "metadata": {},
   "source": [
    "---\n",
    "comments: true\n",
    "layout: notebook\n",
    "title: SASS Login Lesson\n",
    "description: A key to development in this class is the association VSCode to a GitHub pages project.  This is where students update assignments and present work.\n",
    "type: hacks\n",
    "courses: { csa: {week: 19} }\n",
    "authors: Krishiv Mahendru, Vinay Rajagopalan, Edwin Abraham, Parav Salaniwal, Shaurya Goel, Yuri Subramaniam\n",
    "---"
   ]
  },
  {
   "cell_type": "markdown",
   "metadata": {},
   "source": [
    "## SASS"
   ]
  }
 ],
 "metadata": {
  "language_info": {
   "name": "python"
  }
 },
 "nbformat": 4,
 "nbformat_minor": 2
}
